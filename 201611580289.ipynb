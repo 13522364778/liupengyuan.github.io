{
 "cells": [
  {
   "cell_type": "code",
   "execution_count": 3,
   "metadata": {
    "collapsed": false
   },
   "outputs": [
    {
     "name": "stdout",
     "output_type": "stream",
     "text": [
      "Pleasse input an integer,and end with Enter.10\n",
      "55\n"
     ]
    }
   ],
   "source": [
    "n = int(input('Pleasse input an integer,and end with Enter.'))\n",
    "i = 0\n",
    "total = 0\n",
    "\n",
    "while i < n:\n",
    "    i = i + 1\n",
    "    total = total + i\n",
    "    \n",
    "print(total)"
   ]
  },
  {
   "cell_type": "code",
   "execution_count": 4,
   "metadata": {
    "collapsed": false
   },
   "outputs": [
    {
     "name": "stdout",
     "output_type": "stream",
     "text": [
      "Please input your name,and end with Enter.Haloviva\n",
      "Hello, name\n",
      "Please input an integer,and end with Enter.1\n",
      "Please input an integer,and end with Enter.2\n",
      "This is the sum of two number: 3\n",
      "Goodbye! Haloviva\n"
     ]
    }
   ],
   "source": [
    "name = input('Please input your name,and end with Enter.')\n",
    "print('Hello, name')\n",
    "\n",
    "n = int(input('Please input an integer,and end with Enter.'))\n",
    "m = int(input('Please input an integer,and end with Enter.'))\n",
    "\n",
    "print('This is the sum of two number:', m+n)\n",
    "print('Goodbye!', name)"
   ]
  },
  {
   "cell_type": "code",
   "execution_count": 7,
   "metadata": {
    "collapsed": false
   },
   "outputs": [
    {
     "name": "stdout",
     "output_type": "stream",
     "text": [
      "Please input an integer,and end with Enter.3\n",
      "Please input an integer,and end with Enter.1\n",
      "Please input an integer,and end with Enter.2\n",
      "Please input an integer,and end with Enter.3\n",
      "This is the sum of these numbers: 6\n"
     ]
    }
   ],
   "source": [
    "n=int(input('Please input an integer,and end with Enter.'))\n",
    "i=0\n",
    "j=0\n",
    "total=0\n",
    "\n",
    "while i<n:\n",
    "    j=int(input('Please input an integer,and end with Enter.'))\n",
    "    i=i+1\n",
    "    total=total+j\n",
    "    \n",
    "print('This is the sum of these numbers:',total)\n",
    "\n"
   ]
  },
  {
   "cell_type": "code",
   "execution_count": 1,
   "metadata": {
    "collapsed": false
   },
   "outputs": [
    {
     "name": "stdout",
     "output_type": "stream",
     "text": [
      "Please input an integer,and end with Enter1\n",
      "if you do not want to input numbers,please input out,if you want to continue inputing,please input in\n",
      "in\n",
      "Please input an integer,and end with Enter2\n",
      "if you do not want to input numbers,please input out,if you want to continue inputing,please input in\n",
      "out\n"
     ]
    }
   ],
   "source": [
    "i=0\n",
    "m=0\n",
    "\n",
    "while  i==m: \n",
    "    n=int(input('Please input an integer,and end with Enter'))\n",
    "    print('if you do not want to input numbers,please input out,if you want to continue inputing,please input in')\n",
    "    m=input()\n",
    "    if 'out'==m:\n",
    "        m=1\n",
    "    else:\n",
    "        m=0\n",
    "   \n",
    "    \n",
    "\n",
    "    "
   ]
  },
  {
   "cell_type": "markdown",
   "metadata": {
    "collapsed": true
   },
   "source": [
    "\n",
    "        \n",
    "    "
   ]
  },
  {
   "cell_type": "code",
   "execution_count": 1,
   "metadata": {
    "collapsed": false
   },
   "outputs": [
    {
     "name": "stdout",
     "output_type": "stream",
     "text": [
      "Please input an integer,and end with Enter.1\n",
      "Please input an integer,and end with Enter.2\n"
     ]
    }
   ],
   "source": [
    "i=0\n",
    "j=0\n",
    "m=0\n",
    "n=1\n",
    "\n",
    "while i==j:\n",
    "    a=int(input('Please input an integer,and end with Enter.'))\n",
    "    m=m+a\n",
    "    n=n*a\n",
    "    if m<a:\n",
    "        j=1\n",
    "    elif n<a*a:\n",
    "        j=1\n",
    "    else:\n",
    "        j=0"
   ]
  }
 ],
 "metadata": {
  "kernelspec": {
   "display_name": "Python 3",
   "language": "python",
   "name": "python3"
  },
  "language_info": {
   "codemirror_mode": {
    "name": "ipython",
    "version": 3
   },
   "file_extension": ".py",
   "mimetype": "text/x-python",
   "name": "python",
   "nbconvert_exporter": "python",
   "pygments_lexer": "ipython3",
   "version": "3.6.0"
  }
 },
 "nbformat": 4,
 "nbformat_minor": 2
}

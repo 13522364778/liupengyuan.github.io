{
 "cells": [
  {
   "cell_type": "code",
   "execution_count": 1,
   "metadata": {
    "collapsed": false
   },
   "outputs": [
    {
     "name": "stdout",
     "output_type": "stream",
     "text": [
      "请输入一个正整数，以回车结束。3\n",
      "请输入一个正整数，以回车结束。1\n",
      "请输入一个正整数，以回车结束。2\n",
      "请输入一个正整数，以回车结束。3\n",
      "6\n"
     ]
    }
   ],
   "source": [
    "n = int(input('请输入一个正整数'))\n",
    "i=0\n",
    "sum=0\n",
    "while i<n:\n",
    "    m=int(input('请输入一个正整数'))\n",
    "    i+=1\n",
    "    sum+=m\n",
    "print(sum)\n"
   ]
  },
  {
   "cell_type": "code",
   "execution_count": 1,
   "metadata": {
    "collapsed": false
   },
   "outputs": [
    {
     "name": "stdout",
     "output_type": "stream",
     "text": [
      "请输入一个正整数，如果停止请输入0  9\n",
      "\n",
      "\n",
      "请输入一个正整数，如果停止请输入0  8\n",
      "\n",
      "\n",
      "请输入一个正整数，如果停止请输入0  6\n",
      "\n",
      "\n",
      "请输入一个正整数，如果停止请输入0  0\n",
      "\n",
      "\n",
      "23\n"
     ]
    }
   ],
   "source": [
    "sum=0\n",
    "n=1\n",
    "while n:\n",
    "    n = int(input('请输入一个正整数，如果停止请输入0  '))\n",
    "    print('\\n')\n",
    "    sum+=n\n",
    "print(sum)"
   ]
  },
  {
   "cell_type": "code",
   "execution_count": null,
   "metadata": {
    "collapsed": true
   },
   "outputs": [],
   "source": [
    "ji=1\n",
    "n =int (input('请输入一个正整数')) \n",
    "q=1\n",
    "while (sum>=n or ji>=n*n or q):\n",
    "    ji*=n\n",
    "    sum+=n\n",
    "    n = int(input('请继续输入一个正整数'))\n",
    "    q=0\n",
    "print(sum)\n",
    "print(ji)"
   ]
  },
  {
   "cell_type": "code",
   "execution_count": null,
   "metadata": {
    "collapsed": true
   },
   "outputs": [],
   "source": []
  }
 ],
 "metadata": {
  "kernelspec": {
   "display_name": "Python 3",
   "language": "python",
   "name": "python3"
  },
  "language_info": {
   "codemirror_mode": {
    "name": "ipython",
    "version": 3
   },
   "file_extension": ".py",
   "mimetype": "text/x-python",
   "name": "python",
   "nbconvert_exporter": "python",
   "pygments_lexer": "ipython3",
   "version": "3.6.0"
  }
 },
 "nbformat": 4,
 "nbformat_minor": 2
}
